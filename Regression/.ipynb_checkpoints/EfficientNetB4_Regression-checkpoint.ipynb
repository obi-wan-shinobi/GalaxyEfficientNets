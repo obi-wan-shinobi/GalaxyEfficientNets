{
 "cells": [
  {
   "cell_type": "code",
   "execution_count": null,
   "metadata": {
    "colab": {
     "base_uri": "https://localhost:8080/",
     "height": 34
    },
    "colab_type": "code",
    "id": "ybdUJcqoCdhN",
    "outputId": "46092af1-eee9-4de1-b815-c82a24fc6557"
   },
   "outputs": [],
   "source": [
    "import numpy as np\n",
    "\n",
    "import tensorflow as tf\n",
    "import time\n",
    "import os\n",
    "import glob\n",
    "import PIL\n",
    "from PIL import ImageFile\n",
    "ImageFile.LOAD_TRUNCATED_IMAGES = True\n",
    "import cv2\n",
    "import pandas as pd\n",
    "import tensorflow.keras\n",
    "from tensorflow.keras.utils import to_categorical\n",
    "from keras.preprocessing.image import img_to_array,ImageDataGenerator\n",
    "from tensorflow.keras.models import Sequential, Model\n",
    "from sklearn.metrics import classification_report, confusion_matrix"
   ]
  },
  {
   "cell_type": "code",
   "execution_count": null,
   "metadata": {
    "colab": {
     "base_uri": "https://localhost:8080/",
     "height": 35
    },
    "colab_type": "code",
    "id": "hWSmxiBePn80",
    "outputId": "e5ba2f8a-d791-423e-b60a-19add5f60892"
   },
   "outputs": [],
   "source": [
    "TPU_ADDRESS = 'grpc://' + os.environ['COLAB_TPU_ADDR']\n",
    "TPU_ADDRESS"
   ]
  },
  {
   "cell_type": "code",
   "execution_count": null,
   "metadata": {
    "colab": {},
    "colab_type": "code",
    "id": "P2x8Ci4vPsEB"
   },
   "outputs": [],
   "source": [
    "DIR = \"/content/training_solutions_rev1.csv\"\n",
    " \n",
    "train_path = \"/content/images_training_rev1\""
   ]
  },
  {
   "cell_type": "code",
   "execution_count": null,
   "metadata": {
    "colab": {
     "base_uri": "https://localhost:8080/",
     "height": 50
    },
    "colab_type": "code",
    "id": "fboNKGyFPuzS",
    "outputId": "66bd4b12-857b-4edf-c97b-35f3baa1d937"
   },
   "outputs": [],
   "source": [
    "classes = [\n",
    "    'Class1.1', 'Class1.2', 'Class1.3', 'Class2.1', 'Class2.2', 'Class3.1',\n",
    "    'Class3.2', 'Class4.1', 'Class4.2', 'Class5.1', 'Class5.2', 'Class5.3',\n",
    "    'Class5.4', 'Class6.1', 'Class6.2', 'Class7.1', 'Class7.2', 'Class7.3',\n",
    "    'Class8.1', 'Class8.2', 'Class8.3', 'Class8.4', 'Class8.5', 'Class8.6',\n",
    "    'Class8.7', 'Class9.1', 'Class9.2', 'Class9.3', 'Class10.1', 'Class10.2',\n",
    "    'Class10.3', 'Class11.1', 'Class11.2', 'Class11.3', 'Class11.4',\n",
    "    'Class11.5', 'Class11.6'\n",
    "]\n",
    "\n",
    "\n",
    "def append_ext(fn):\n",
    "    return fn + \".jpg\"\n",
    "\n",
    "\n",
    "traindf = pd.read_csv(DIR)\n",
    "traindf[\"id\"] = traindf['GalaxyID'].astype(str).apply(append_ext)\n",
    "\n",
    "def random_input(img):\n",
    "    shape = img.shape[:2]\n",
    "    left = int(shape[0]/4)\n",
    "    top = int(shape[1]/4)\n",
    "    img = img[left:left*3,top:top*3,:]\n",
    "    image = cv2.resize(img, shape, interpolation = cv2.INTER_CUBIC)\n",
    "    image = img_to_array(image)\n",
    "    return image\n",
    "  \n",
    "datagen = ImageDataGenerator(\n",
    "    #featurewise_center=True,\n",
    "    #featurewise_std_normalization=True,\n",
    "    rescale=1. / 255,\n",
    "    rotation_range=90,\n",
    "    width_shift_range=0.1,\n",
    "    height_shift_range=0.1,\n",
    "    brightness_range = (0.9, 1.2),\n",
    "    horizontal_flip=True,\n",
    "    vertical_flip=True,\n",
    "    validation_split = 0.20,\n",
    "    preprocessing_function = random_input,\n",
    ")\n",
    "\n",
    "valid_datagen=ImageDataGenerator(\n",
    "    rescale=1./255,\n",
    "    validation_split=0.20, \n",
    "    preprocessing_function = random_input)\n",
    "\n",
    "train_generator = datagen.flow_from_dataframe(\n",
    "    dataframe=traindf,\n",
    "    directory=train_path,\n",
    "    x_col=\"id\",\n",
    "    y_col=classes,\n",
    "    subset=\"training\",\n",
    "    batch_size=16,\n",
    "    seed=123,\n",
    "    shuffle=False,\n",
    "    class_mode=\"raw\",\n",
    "    target_size=(256,256))\n",
    "\n",
    "\n",
    "STEP_SIZE_TRAIN = train_generator.n // train_generator.batch_size\n",
    "\n",
    "valid_generator = valid_datagen.flow_from_dataframe(\n",
    "    dataframe=traindf,\n",
    "    directory=train_path,\n",
    "    x_col=\"id\",\n",
    "    y_col=classes,\n",
    "    subset=\"validation\",\n",
    "    batch_size=16,\n",
    "    seed=123,\n",
    "    shuffle=False,\n",
    "    class_mode=\"raw\",\n",
    "    target_size=(256, 256))\n",
    "\n",
    "STEP_SIZE_VALID = valid_generator.n // valid_generator.batch_size"
   ]
  },
  {
   "cell_type": "code",
   "execution_count": null,
   "metadata": {
    "colab": {},
    "colab_type": "code",
    "id": "swiQz2cJP0wP"
   },
   "outputs": [],
   "source": [
    "mean = np.array([123.68, 116.779, 103.939], dtype=\"float32\")\n",
    "train_generator.mean=train_generator\n",
    "valid_generator.mean=valid_generator"
   ]
  },
  {
   "cell_type": "code",
   "execution_count": null,
   "metadata": {
    "colab": {},
    "colab_type": "code",
    "id": "6_oejAzyP3fq"
   },
   "outputs": [],
   "source": [
    "from keras.models import Sequential, Model,load_model\n",
    "from keras.applications.resnet_v2 import ResNet50V2\n",
    "from keras.applications.inception_resnet_v2 import InceptionResNetV2\n",
    "from keras.layers import Add,Input,Dense,Dropout,BatchNormalization,Activation,Flatten,Conv2D,MaxPooling2D,ZeroPadding2D,Lambda,AveragePooling2D, MaxPooling2D, GlobalMaxPooling2D, GlobalAveragePooling2D\n",
    "from keras.optimizers import SGD, RMSprop, Adam, Adagrad\n",
    "from keras.initializers import glorot_uniform"
   ]
  },
  {
   "cell_type": "code",
   "execution_count": null,
   "metadata": {
    "colab": {
     "base_uri": "https://localhost:8080/",
     "height": 353
    },
    "colab_type": "code",
    "id": "SRnCjjyNP5yE",
    "outputId": "e2bf179d-b163-4196-cfc7-998d83f89b36"
   },
   "outputs": [],
   "source": [
    "!pip install efficientnet"
   ]
  },
  {
   "cell_type": "code",
   "execution_count": null,
   "metadata": {
    "colab": {},
    "colab_type": "code",
    "id": "utEljXw-P74k"
   },
   "outputs": [],
   "source": [
    "import efficientnet.keras as efn \n",
    "import keras.backend as backend\n",
    "\n",
    "def rmse(y_true, y_pred):\n",
    "        return backend.sqrt(backend.mean(backend.square(y_pred - y_true))) "
   ]
  },
  {
   "cell_type": "code",
   "execution_count": null,
   "metadata": {
    "colab": {
     "base_uri": "https://localhost:8080/",
     "height": 706
    },
    "colab_type": "code",
    "id": "P540VwG3P-QF",
    "outputId": "4532ee28-c489-4705-8fbf-5cba522564e4"
   },
   "outputs": [],
   "source": [
    "try:\n",
    "    tpu = tf.distribute.cluster_resolver.TPUClusterResolver()\n",
    "    print('Running on TPU ', tpu.master())\n",
    "except ValueError:\n",
    "    tpu = None\n",
    "\n",
    "if tpu:\n",
    "    tf.config.experimental_connect_to_cluster(tpu)\n",
    "    tf.tpu.experimental.initialize_tpu_system(tpu)\n",
    "    strategy = tf.distribute.experimental.TPUStrategy(tpu)\n",
    "else:\n",
    "    strategy = tf.distribute.get_strategy()"
   ]
  },
  {
   "cell_type": "code",
   "execution_count": null,
   "metadata": {
    "colab": {
     "base_uri": "https://localhost:8080/",
     "height": 50
    },
    "colab_type": "code",
    "id": "4MtKngj_QAZi",
    "outputId": "6f81ed47-bbd8-441b-ef10-b81ffc300c4d"
   },
   "outputs": [],
   "source": [
    "with strategy.scope():\n",
    "  def build_model():\n",
    "      eff4 = efn.EfficientNetB4(weights='imagenet',include_top=False,input_shape=(256,256,3))\n",
    "      model = Sequential()\n",
    "      model.add(eff4)\n",
    "      model.add(GlobalAveragePooling2D())\n",
    "      model.add(Dropout(0.25))\n",
    "      model.add(Dense(64, activation='relu'))\n",
    "      model.add(Dense(37, activation='sigmoid'))\n",
    "      opt = Adam(lr=1.5e-4)\n",
    "      model.compile(loss=rmse,\n",
    "                  optimizer=opt, \n",
    "                  metrics=[rmse, 'accuracy'])\n",
    "      return model\n",
    "model = build_model()\n",
    "\n",
    "with strategy.scope():\n",
    "  model = load_model('/content/drive/My Drive/Regression/results/weights_efficientnetB4_TPU_FC64.hdf5', custom_objects={'rmse': rmse})\n",
    "  opt = Adam(lr=1.5e-4)\n",
    "  model.compile(loss=rmse,\n",
    "              optimizer=opt, \n",
    "              metrics=[rmse, 'accuracy'])"
   ]
  },
  {
   "cell_type": "code",
   "execution_count": null,
   "metadata": {
    "colab": {
     "base_uri": "https://localhost:8080/",
     "height": 319
    },
    "colab_type": "code",
    "id": "Lsh80yQEQCZq",
    "outputId": "057f1aa3-68de-4368-e6ea-6b68a36b0be1"
   },
   "outputs": [],
   "source": [
    "model.summary()"
   ]
  },
  {
   "cell_type": "code",
   "execution_count": null,
   "metadata": {
    "colab": {},
    "colab_type": "code",
    "id": "M5cxx65RQEi8"
   },
   "outputs": [],
   "source": [
    "from keras.callbacks import Callback\n",
    "from keras.callbacks import ModelCheckpoint, Callback, EarlyStopping, ReduceLROnPlateau, CSVLogger\n",
    "\n",
    "\n",
    "class LossHistory(Callback):\n",
    "    def on_train_begin(self, logs={}):\n",
    "        self.losses = []\n",
    "        self.val_losses = []\n",
    "        self.rmse = []\n",
    "\n",
    "    def on_batch_end(self, batch, logs={}):\n",
    "        self.losses.append(logs.get('loss'))\n",
    "        self.val_losses.append(logs.get('val_loss'))\n",
    "        self.rmse.append(logs.get('rmse'))\n",
    "\n",
    "\n",
    "early_stopping = EarlyStopping(\n",
    "    monitor='val_loss', patience=5, verbose=1, mode='auto')\n",
    "\n",
    "history = LossHistory()\n",
    "\n",
    "from keras.callbacks import ModelCheckpoint\n",
    "checkpointer = ModelCheckpoint(\n",
    "    filepath='/content/drive/My Drive/Regression/results/weights_efficientnetB4_TPU_FC64_fourth_iteration.hdf5', verbose=2, save_best_only=True)\n",
    "\n",
    "reduce_lr = ReduceLROnPlateau(monitor='val_loss', factor=0.2,\n",
    "                              patience=4,)\n",
    "\n",
    "csv_logger = CSVLogger('/content/drive/My Drive/Regression/results/training_efficientnetB4_TPU_FC64.csv')"
   ]
  },
  {
   "cell_type": "code",
   "execution_count": null,
   "metadata": {
    "colab": {
     "base_uri": "https://localhost:8080/",
     "height": 454
    },
    "colab_type": "code",
    "id": "RifTBID5QHpr",
    "outputId": "bffcdb9c-2f5f-457e-879b-751a8080a01e"
   },
   "outputs": [],
   "source": [
    "hist = model.fit_generator(\n",
    "    train_generator,\n",
    "    steps_per_epoch=STEP_SIZE_TRAIN,\n",
    "    validation_data=valid_generator,\n",
    "    validation_steps=STEP_SIZE_VALID,\n",
    "    epochs=50,\n",
    "    callbacks=[history, checkpointer, reduce_lr, early_stopping, csv_logger])"
   ]
  },
  {
   "cell_type": "code",
   "execution_count": null,
   "metadata": {
    "colab": {},
    "colab_type": "code",
    "id": "lKL0P1wdQJqB"
   },
   "outputs": [],
   "source": [
    "import efficientnet.keras as efn \n",
    "def rmse(y_true, y_pred):\n",
    "        return backend.sqrt(backend.mean(backend.square(y_pred - y_true)))\n",
    "from keras.models import load_model\n",
    "model = load_model('/content/drive/My Drive/Regression/results/weights_efficientnetB4_TPU_FC64_fourth_iteration.hdf5', custom_objects={'rmse': rmse})"
   ]
  },
  {
   "cell_type": "code",
   "execution_count": null,
   "metadata": {
    "colab": {
     "base_uri": "https://localhost:8080/",
     "height": 34
    },
    "colab_type": "code",
    "id": "HG7apzaoQRe1",
    "outputId": "e1851f02-1ca2-4d59-8f2b-09ad13cb8715"
   },
   "outputs": [],
   "source": [
    "test_datagen = ImageDataGenerator(rescale=1. / 255, preprocessing_function = random_input)\n",
    "test_datagen.mean=test_datagen\n",
    "test_generator = test_datagen.flow_from_directory(\n",
    "    \"/content/real_test\",\n",
    "    class_mode=None,\n",
    "    color_mode=\"rgb\",\n",
    "    batch_size=128,\n",
    "    target_size=(256, 256),\n",
    "    seed=123,\n",
    "    shuffle=False)"
   ]
  },
  {
   "cell_type": "code",
   "execution_count": null,
   "metadata": {
    "colab": {
     "base_uri": "https://localhost:8080/",
     "height": 34
    },
    "colab_type": "code",
    "id": "UCdqS6XX8Adb",
    "outputId": "4c618a0b-5da6-429c-c77f-8d03fb98d1d5"
   },
   "outputs": [],
   "source": [
    "test_generator.reset()\n",
    "\n",
    "predictions = model.predict_generator(\n",
    "    test_generator,\n",
    "    steps=test_generator.n / test_generator.batch_size,\n",
    "    verbose=1)"
   ]
  },
  {
   "cell_type": "code",
   "execution_count": null,
   "metadata": {
    "colab": {},
    "colab_type": "code",
    "id": "U-GFFj_08BbP"
   },
   "outputs": [],
   "source": [
    "def get_id(fname):\n",
    "    return fname.replace(\".jpg\", \"\").split(\"/\")[1]\n",
    "\n",
    "\n",
    "header = open('/content/all_zeros_benchmark.csv', 'r').readlines()[0]\n",
    "\n",
    "with open('/content/drive/My Drive/results/output/EfficientNetB4_output_FC64.csv', 'w') as outfile:\n",
    "    outfile.write(header)\n",
    "    for i in range(len(test_generator.filenames)):\n",
    "        id_ = (get_id(test_generator.filenames[i]))\n",
    "        pred = predictions[i]\n",
    "        outline = id_ + \",\" + \",\".join([str(x) for x in pred])\n",
    "        outfile.write(outline + \"\\n\")"
   ]
  },
  {
   "cell_type": "code",
   "execution_count": null,
   "metadata": {
    "colab": {},
    "colab_type": "code",
    "id": "7qyaFaXcSkCE"
   },
   "outputs": [],
   "source": []
  }
 ],
 "metadata": {
  "accelerator": "TPU",
  "colab": {
   "name": "EfficientNetB4_Regression",
   "provenance": []
  },
  "kernelspec": {
   "display_name": "Python 3",
   "language": "python",
   "name": "python3"
  },
  "language_info": {
   "codemirror_mode": {
    "name": "ipython",
    "version": 3
   },
   "file_extension": ".py",
   "mimetype": "text/x-python",
   "name": "python",
   "nbconvert_exporter": "python",
   "pygments_lexer": "ipython3",
   "version": "3.7.8"
  }
 },
 "nbformat": 4,
 "nbformat_minor": 1
}
