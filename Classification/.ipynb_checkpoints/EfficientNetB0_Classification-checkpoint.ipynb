{
 "cells": [
  {
   "cell_type": "code",
   "execution_count": null,
   "metadata": {
    "colab": {},
    "colab_type": "code",
    "id": "nM6KGB-hsi-A"
   },
   "outputs": [],
   "source": [
    "import numpy as np\n",
    "\n",
    "import tensorflow as tf\n",
    "import time\n",
    "import os\n",
    "import glob\n",
    "import PIL\n",
    "from PIL import ImageFile\n",
    "ImageFile.LOAD_TRUNCATED_IMAGES = True\n",
    "import cv2\n",
    "import pandas as pd\n",
    "import tensorflow.keras\n",
    "from tensorflow.keras.utils import to_categorical\n",
    "from tensorflow.keras.preprocessing.image import img_to_array,ImageDataGenerator\n",
    "from tensorflow.keras.models import Sequential, Model\n",
    "from tensorflow.keras.layers import Dense, Dropout, Flatten,Input\n",
    "from tensorflow.keras.layers import Conv2D, MaxPooling2D,BatchNormalization,AveragePooling2D\n",
    "from sklearn.metrics import classification_report, confusion_matrix"
   ]
  },
  {
   "cell_type": "code",
   "execution_count": null,
   "metadata": {
    "colab": {
     "base_uri": "https://localhost:8080/",
     "height": 34
    },
    "colab_type": "code",
    "id": "YDh2gNYCs1DN",
    "outputId": "0050ee07-e726-48cb-d0c0-999c727bca5a"
   },
   "outputs": [],
   "source": [
    "TPU_ADDRESS = 'grpc://' + os.environ['COLAB_TPU_ADDR']\n",
    "TPU_ADDRESS"
   ]
  },
  {
   "cell_type": "code",
   "execution_count": null,
   "metadata": {
    "colab": {
     "base_uri": "https://localhost:8080/",
     "height": 34
    },
    "colab_type": "code",
    "id": "cljFWYoQtS98",
    "outputId": "ddaa67b9-2158-499c-d8a0-ba552a5df84c"
   },
   "outputs": [],
   "source": [
    "from keras.models import Model, Sequential\n",
    "from keras.layers import Flatten, Dense, Add, Lambda, Input, Reshape, Conv2D, MaxPooling2D, BatchNormalization, Activation, ZeroPadding2D, GlobalMaxPooling2D, Dropout, AveragePooling2D\n",
    "import tensorflow as tf"
   ]
  },
  {
   "cell_type": "code",
   "execution_count": null,
   "metadata": {
    "colab": {},
    "colab_type": "code",
    "id": "5pzb6lY8tXN4"
   },
   "outputs": [],
   "source": [
    "classes = [\"class 0\",\"class 1\",\"class 2\",\"class 3\",\"class 4\", \"class 5\",\"class 6\"]\n",
    "\n",
    "def append_ext(fn):\n",
    "    return fn + \".jpg\"\n",
    "\n",
    "\n",
    "traindf = pd.read_csv(\"/content/datasets/train.csv\")\n",
    "traindf[\"id\"] = traindf['GalaxyID'].astype(str).apply(append_ext)"
   ]
  },
  {
   "cell_type": "code",
   "execution_count": null,
   "metadata": {
    "colab": {},
    "colab_type": "code",
    "id": "ESoqgoDutpkE"
   },
   "outputs": [],
   "source": [
    "train_path = \"/content/images/train_pool/\""
   ]
  },
  {
   "cell_type": "code",
   "execution_count": null,
   "metadata": {
    "colab": {},
    "colab_type": "code",
    "id": "Mz5TzRKgtsmO"
   },
   "outputs": [],
   "source": [
    "def random_input(img):\n",
    "    shape = img.shape[:2]\n",
    "    left = int(shape[0]/4)\n",
    "    top = int(shape[1]/4)\n",
    "    img = img[left:left*3,top:top*3,:]\n",
    "    image = cv2.resize(img, shape, interpolation = cv2.INTER_CUBIC)\n",
    "    image = img_to_array(image)\n",
    "    return image\n",
    "\n",
    "\n",
    "datagen = ImageDataGenerator(\n",
    "    rescale=1. / 255,\n",
    "    rotation_range=140,\n",
    "    width_shift_range=0.1,\n",
    "    height_shift_range=0.1,\n",
    "    brightness_range = (0.9, 2),\n",
    "    horizontal_flip=True,\n",
    "    vertical_flip=True,\n",
    "    validation_split = 0.15,\n",
    "    preprocessing_function = random_input,\n",
    ")\n",
    "\n",
    "valid_datagen=ImageDataGenerator(\n",
    "    rescale=1./255,\n",
    "    validation_split=0.15,\n",
    "    preprocessing_function = random_input,\n",
    "    )"
   ]
  },
  {
   "cell_type": "code",
   "execution_count": null,
   "metadata": {
    "colab": {
     "base_uri": "https://localhost:8080/",
     "height": 50
    },
    "colab_type": "code",
    "id": "5islAACNtvsg",
    "outputId": "6f1e1097-ee95-43c7-f335-a53ff907e609"
   },
   "outputs": [],
   "source": [
    "train_generator = datagen.flow_from_dataframe(\n",
    "    dataframe=traindf,\n",
    "    directory=train_path,\n",
    "    x_col=\"id\",\n",
    "    y_col=classes,\n",
    "    subset=\"training\",\n",
    "    batch_size=256,\n",
    "    seed=123,\n",
    "    shuffle=False,\n",
    "    class_mode=\"raw\",\n",
    "    target_size=(224,224))\n",
    "\n",
    "\n",
    "STEP_SIZE_TRAIN = train_generator.n // train_generator.batch_size\n",
    "\n",
    "valid_generator = valid_datagen.flow_from_dataframe(\n",
    "    dataframe=traindf,\n",
    "    directory=train_path,\n",
    "    x_col=\"id\",\n",
    "    y_col=classes,\n",
    "    subset=\"validation\",\n",
    "    batch_size=256,\n",
    "    seed=123,\n",
    "    shuffle=False,\n",
    "    class_mode=\"raw\",\n",
    "    target_size=(224, 224))\n",
    "\n",
    "STEP_SIZE_VALID = valid_generator.n // valid_generator.batch_size"
   ]
  },
  {
   "cell_type": "code",
   "execution_count": null,
   "metadata": {
    "colab": {},
    "colab_type": "code",
    "id": "76XQyoVft0N6"
   },
   "outputs": [],
   "source": [
    "mean = np.array([123.68, 116.779, 103.939], dtype=\"float32\")\n",
    "train_generator.mean=train_generator\n",
    "valid_generator.mean=valid_generator"
   ]
  },
  {
   "cell_type": "code",
   "execution_count": null,
   "metadata": {
    "colab": {},
    "colab_type": "code",
    "id": "k-26LOdkt4R1"
   },
   "outputs": [],
   "source": [
    "from keras.models import Sequential, Model,load_model\n",
    "from keras.applications.resnet import ResNet152\n",
    "from keras.applications.resnet_v2 import ResNet50V2\n",
    "from keras.applications.inception_resnet_v2 import InceptionResNetV2\n",
    "from keras.layers import Flatten, Dense, Add, Multiply, Lambda, Input, Reshape, Conv2D, DepthwiseConv2D, MaxPooling2D, BatchNormalization, Activation, ZeroPadding2D, GlobalAveragePooling2D, GlobalMaxPooling2D, Dropout, AveragePooling2D\n",
    "from keras.optimizers import SGD, RMSprop, Adam, Adagrad\n",
    "from keras.initializers import glorot_uniform"
   ]
  },
  {
   "cell_type": "code",
   "execution_count": null,
   "metadata": {
    "colab": {
     "base_uri": "https://localhost:8080/",
     "height": 373
    },
    "colab_type": "code",
    "id": "RXBsIxqBuRfv",
    "outputId": "977af7ca-4d5c-4f00-9cc2-90eda501844b"
   },
   "outputs": [],
   "source": [
    "!pip install efficientnet"
   ]
  },
  {
   "cell_type": "code",
   "execution_count": null,
   "metadata": {
    "colab": {
     "base_uri": "https://localhost:8080/",
     "height": 706
    },
    "colab_type": "code",
    "id": "IU_wmoZMuXoK",
    "outputId": "8c39f5b5-9c16-4baf-b2cd-d9a259825156"
   },
   "outputs": [],
   "source": [
    "try:\n",
    "    tpu = tf.distribute.cluster_resolver.TPUClusterResolver()\n",
    "    print('Running on TPU ', tpu.master())\n",
    "except ValueError:\n",
    "    tpu = None\n",
    "\n",
    "if tpu:\n",
    "    tf.config.experimental_connect_to_cluster(tpu)\n",
    "    tf.tpu.experimental.initialize_tpu_system(tpu)\n",
    "    strategy = tf.distribute.experimental.TPUStrategy(tpu)\n",
    "else:\n",
    "    strategy = tf.distribute.get_strategy()"
   ]
  },
  {
   "cell_type": "code",
   "execution_count": null,
   "metadata": {
    "colab": {
     "base_uri": "https://localhost:8080/",
     "height": 1000
    },
    "colab_type": "code",
    "id": "PFao3gmrueqY",
    "outputId": "8138f1d7-9997-4339-83b1-1b26f885b339"
   },
   "outputs": [],
   "source": [
    "import efficientnet.keras as efn \n",
    "import keras.backend as backend\n",
    "\n",
    "with strategy.scope():\n",
    "  def build_model():\n",
    "      eff0 = efn.EfficientNetB0(weights='imagenet',include_top=False,input_shape=(224,224,3))\n",
    "      X = GlobalAveragePooling2D()(eff0.output)\n",
    "      X = Dropout(0.5)(X)\n",
    "      X = Dense(64)(X)\n",
    "      X = Activation('relu')(X)\n",
    "      X = Dense(7)(X)\n",
    "      X = Activation('softmax')(X)\n",
    "\n",
    "      model = Model(inputs = eff0.input, outputs = X)\n",
    "      opt = Adam(lr=1.5e-4)\n",
    "      model.compile(loss='categorical_crossentropy',\n",
    "                  optimizer=opt, \n",
    "                  metrics=['accuracy'])\n",
    "      return model\n",
    "model = build_model()\n",
    "model.summary()"
   ]
  },
  {
   "cell_type": "code",
   "execution_count": null,
   "metadata": {
    "colab": {},
    "colab_type": "code",
    "id": "umtgxAKHu07b"
   },
   "outputs": [],
   "source": [
    "from keras.callbacks import Callback\n",
    "from keras.callbacks import ModelCheckpoint, Callback, EarlyStopping, ReduceLROnPlateau, CSVLogger\n",
    "\n",
    "\n",
    "class LossHistory(Callback):\n",
    "    def on_train_begin(self, logs={}):\n",
    "        self.losses = []\n",
    "        self.val_losses = []\n",
    "\n",
    "    def on_batch_end(self, batch, logs={}):\n",
    "        self.losses.append(logs.get('loss'))\n",
    "        self.val_losses.append(logs.get('val_loss'))\n",
    "\n",
    "\n",
    "early_stopping = EarlyStopping(\n",
    "    monitor='val_loss', patience=10, verbose=1, mode='auto')\n",
    "\n",
    "history = LossHistory()\n",
    "\n",
    "from keras.callbacks import ModelCheckpoint\n",
    "checkpointer = ModelCheckpoint(\n",
    "    filepath='/content/drive/My Drive/Classifier/results/weights_efficientnetB0_TPU_FC64.hdf5', verbose=2, save_best_only=True)\n",
    "\n",
    "reduce_lr = ReduceLROnPlateau(monitor='val_loss', factor=0.2,\n",
    "                              patience=4,)\n",
    "\n",
    "csv_logger = CSVLogger('/content/drive/My Drive/Classifier/results/history/training_efficientnetB0_TPU_FC64.csv')"
   ]
  },
  {
   "cell_type": "code",
   "execution_count": null,
   "metadata": {
    "colab": {
     "base_uri": "https://localhost:8080/",
     "height": 1000
    },
    "colab_type": "code",
    "id": "K9e7flwCxdYR",
    "outputId": "44e08a10-d55b-4ea3-c73e-bcb3bf358c9c"
   },
   "outputs": [],
   "source": [
    "hist = model.fit_generator(\n",
    "    train_generator,\n",
    "    steps_per_epoch=STEP_SIZE_TRAIN,\n",
    "    validation_data=valid_generator,\n",
    "    validation_steps=STEP_SIZE_VALID,\n",
    "    epochs=50,\n",
    "    callbacks=[history, checkpointer, reduce_lr, early_stopping, csv_logger])"
   ]
  },
  {
   "cell_type": "code",
   "execution_count": null,
   "metadata": {
    "colab": {},
    "colab_type": "code",
    "id": "uXnDVn2p2cFa"
   },
   "outputs": [],
   "source": [
    "model = load_model('/content/drive/My Drive/Classifier/results/weights_efficientnetB0_TPU_FC64.hdf5')"
   ]
  },
  {
   "cell_type": "code",
   "execution_count": null,
   "metadata": {
    "colab": {
     "base_uri": "https://localhost:8080/",
     "height": 34
    },
    "colab_type": "code",
    "id": "WdBDOlWhxoaB",
    "outputId": "c671cb82-baad-4cbb-d726-13167a21f2de"
   },
   "outputs": [],
   "source": [
    "test_datagen = ImageDataGenerator(\n",
    "    rescale=1. / 255,\n",
    "    preprocessing_function = random_input,\n",
    "    )\n",
    "\n",
    "test_generator = test_datagen.flow_from_directory(\n",
    "    \"/content/images/test\",\n",
    "    class_mode=None,\n",
    "    color_mode=\"rgb\",\n",
    "    batch_size=1024,\n",
    "    target_size=(224, 224),\n",
    "    seed=123,\n",
    "    shuffle=False)"
   ]
  },
  {
   "cell_type": "code",
   "execution_count": null,
   "metadata": {
    "colab": {
     "base_uri": "https://localhost:8080/",
     "height": 34
    },
    "colab_type": "code",
    "id": "I-fjQWsh3Ko2",
    "outputId": "a618c89e-f7f0-4de2-948e-6cef0cef82b2"
   },
   "outputs": [],
   "source": [
    "test_generator.reset()\n",
    "\n",
    "Y_pred = model.predict_generator(\n",
    "    test_generator,\n",
    "    steps=test_generator.n / test_generator.batch_size,\n",
    "    verbose=1)\n",
    "\n",
    "y_pred = np.argmax(Y_pred, axis=1)"
   ]
  },
  {
   "cell_type": "code",
   "execution_count": null,
   "metadata": {
    "colab": {
     "base_uri": "https://localhost:8080/",
     "height": 134
    },
    "colab_type": "code",
    "id": "plc-PToi3Rxb",
    "outputId": "bd57a45d-0bf0-42fe-9543-f9cf91f5f0fe"
   },
   "outputs": [],
   "source": [
    "from sklearn.metrics import classification_report, confusion_matrix, roc_curve, auc, roc_auc_score\n",
    "\n",
    "cf=confusion_matrix(test_generator.classes, y_pred)\n",
    "print(cf)"
   ]
  },
  {
   "cell_type": "code",
   "execution_count": null,
   "metadata": {
    "colab": {
     "base_uri": "https://localhost:8080/",
     "height": 252
    },
    "colab_type": "code",
    "id": "36nMmqhI4oAt",
    "outputId": "1a91e320-7d38-4d83-d333-f09451f2b6e4"
   },
   "outputs": [],
   "source": [
    "classification_report = classification_report(test_generator.classes, y_pred, target_names=classes)\n",
    "print(classification_report)"
   ]
  },
  {
   "cell_type": "code",
   "execution_count": null,
   "metadata": {
    "colab": {
     "base_uri": "https://localhost:8080/",
     "height": 34
    },
    "colab_type": "code",
    "id": "rAW-0DFl471i",
    "outputId": "7b61f6d4-a1f6-40a5-9c2b-2cc7abc9c698"
   },
   "outputs": [],
   "source": [
    "# fpr, tpr, threshold = roc_curve(test_generator.classes, y_pred)\n",
    "# roc_auc = auc(fpr, tpr)\n",
    "\n",
    "from sklearn.preprocessing import LabelBinarizer\n",
    "\n",
    "def multiclass_roc_auc_score(y_test, y_pred, average=\"macro\"):\n",
    "  lb = LabelBinarizer()\n",
    "  lb.fit(y_test)\n",
    "  y_test = lb.transform(y_test)\n",
    "  y_pred = lb.transform(y_pred)\n",
    "  return roc_auc_score(y_test, y_pred, average=average)\n",
    "\n",
    "multiclass_roc_auc_score(test_generator.classes, y_pred)"
   ]
  },
  {
   "cell_type": "code",
   "execution_count": null,
   "metadata": {
    "colab": {},
    "colab_type": "code",
    "id": "pSXpu4Zx49RJ"
   },
   "outputs": [],
   "source": [
    "from ggplot import *\n",
    "df = pd.DataFrame(dict(fpr = fpr, tpr = tpr))\n",
    "ggplot(df, aes(x = 'fpr', y = 'tpr')) + geom_line() + geom_abline(linetype = 'dashed')"
   ]
  }
 ],
 "metadata": {
  "accelerator": "TPU",
  "colab": {
   "name": "Copy of EfficientNetB0TPU_Classification.ipynb",
   "provenance": []
  },
  "kernelspec": {
   "display_name": "Python 3",
   "language": "python",
   "name": "python3"
  },
  "language_info": {
   "codemirror_mode": {
    "name": "ipython",
    "version": 3
   },
   "file_extension": ".py",
   "mimetype": "text/x-python",
   "name": "python",
   "nbconvert_exporter": "python",
   "pygments_lexer": "ipython3",
   "version": "3.7.8"
  }
 },
 "nbformat": 4,
 "nbformat_minor": 1
}
